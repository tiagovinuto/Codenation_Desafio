{
 "cells": [
  {
   "cell_type": "code",
   "execution_count": 1,
   "metadata": {},
   "outputs": [],
   "source": [
    "# IMPORTANDO AS BIBLIOTECAS QUE QUE SERÃO UTILIZADAS\n",
    "\n",
    "import numpy as np\n",
    "import pandas as pd\n",
    "import matplotlib.pyplot as plt\n",
    "import seaborn as sns\n",
    "import missingno as msno\n",
    "import csv\n",
    "from scipy import stats\n",
    "from sklearn import metrics\n",
    "\n",
    "%matplotlib inline"
   ]
  },
  {
   "cell_type": "code",
   "execution_count": null,
   "metadata": {},
   "outputs": [],
   "source": [
    "#----------------------------------------------------------\n",
    "#1 - IMPORTANDO OS DADOS DE TRABALHO ---TREINO\n",
    "#----------------------------------------------------------\n",
    "\n",
    "enem_train = 'train.csv'\n",
    "enem_test = 'test.csv'\n",
    "\n",
    "#IMPORTANDO OS DADOS DE TREINO\n",
    "missing_values = ['n/a', 'na', '--', '.']\n",
    "df_train = pd.read_csv(enem_train, na_values = missing_values, encoding=\"UTF8\" )\n",
    "\n",
    "#IMPORTANDO OS DADOS DE TESTE\n",
    "df_test = pd.read_csv(enem_test, na_values=missing_values, encoding=\"UTF8\" )"
   ]
  },
  {
   "cell_type": "code",
   "execution_count": null,
   "metadata": {},
   "outputs": [],
   "source": [
    "# AMPLIANDO A EXIBIÇÃO DO CAMPO DE SAÍDA - COLUNAS\n",
    "pd.set_option(\"display.max_columns\", 200)"
   ]
  },
  {
   "cell_type": "code",
   "execution_count": null,
   "metadata": {},
   "outputs": [],
   "source": [
    "# AMPLIANDO A EXIBIÇÃO DO CAMPO DE SAÍDA - LINHAS\n",
    "pd.set_option(\"display.max_rows\", 15000)"
   ]
  },
  {
   "cell_type": "code",
   "execution_count": null,
   "metadata": {},
   "outputs": [],
   "source": [
    "# 5 PRIMEIRAS LINHAS DO NOSSO CONJ. DE DADOS\n",
    "df_train.head()"
   ]
  },
  {
   "cell_type": "code",
   "execution_count": null,
   "metadata": {},
   "outputs": [],
   "source": [
    "df_train.info()"
   ]
  },
  {
   "cell_type": "code",
   "execution_count": null,
   "metadata": {},
   "outputs": [],
   "source": [
    "# VERIFICANDO E EXCLUINDO AS FEATURES QUE DO CONJ. DE TREINO QUE NÃO ESTÃO NO CONJ. DE TESTE\n",
    "\n",
    "for cols in list(df_train):\n",
    "    if cols not in df_test and cols != 'NU_NOTA_MT':\n",
    "        df_train.drop(cols, axis = 1, inplace= True)"
   ]
  },
  {
   "cell_type": "code",
   "execution_count": null,
   "metadata": {},
   "outputs": [],
   "source": [
    "# COMO ESTA NOSSO CONJ. DE DADOS?\n",
    "df_train.shape"
   ]
  },
  {
   "cell_type": "code",
   "execution_count": null,
   "metadata": {},
   "outputs": [],
   "source": [
    "# EXIBINDO AS 5 PRIMEIRAS LINHAS DO NOSSO CONJ. DE DADOS APÓS A ELIMINAÇÃO DE ALGUMAS FEATURES\n",
    "df_train.head()"
   ]
  },
  {
   "cell_type": "code",
   "execution_count": null,
   "metadata": {},
   "outputs": [],
   "source": [
    "# DAS FEATURES QUE RESTARAM, APÓS UMA ANÁLISE PERCEBEU-SE QUE ALGUMAS SÃO DESNECESSÁRIAS, \n",
    "# VAMOS ELIMINA-LAS?\n",
    "\n",
    "excluCols = ['NU_INSCRICAO', 'CO_UF_RESIDENCIA', 'TP_DEPENDENCIA_ADM_ESC', \n",
    "             'IN_CEGUEIRA', 'IN_DISLEXIA', \n",
    "             'IN_SABATISTA', 'IN_GESTANTE', \n",
    "             'IN_IDOSO', 'CO_PROVA_CN', 'CO_PROVA_CH', \n",
    "             'CO_PROVA_LC', 'CO_PROVA_MT', 'IN_DISCALCULIA']\n",
    "\n",
    "df_train.drop(excluCols, axis=1, inplace= True)"
   ]
  },
  {
   "cell_type": "code",
   "execution_count": null,
   "metadata": {},
   "outputs": [],
   "source": [
    "# COMO ESTA NOSSO CONJ. DE DADOS AGORA?\n",
    "df_train.shape"
   ]
  },
  {
   "cell_type": "markdown",
   "metadata": {},
   "source": [
    "#### LIMPEZA DOS DADOS FALTANTES"
   ]
  },
  {
   "cell_type": "code",
   "execution_count": null,
   "metadata": {},
   "outputs": [],
   "source": [
    "# VAMOS COMEÇAR AVALIANDO QUAIS COLUNAS DO NOSSO CONJ. DE DADOS APRESENTAM ALGUM VALOR NAN?\n",
    "\n",
    "df_train.isnull().any()"
   ]
  },
  {
   "cell_type": "code",
   "execution_count": null,
   "metadata": {},
   "outputs": [],
   "source": [
    "# APRESENTADO GRAFICAMENTE AS COLUNAS COM DADOS FALTANTES\n",
    "\n",
    "msno.bar(df_train.sample(1000));"
   ]
  },
  {
   "cell_type": "code",
   "execution_count": null,
   "metadata": {},
   "outputs": [],
   "source": [
    "# PORCENTAGEM DE VALORES FALTANTES POR FEATURE\n",
    "\n",
    "(df_train.isnull().sum() / df_train.shape[0]) * 100 "
   ]
  },
  {
   "cell_type": "code",
   "execution_count": null,
   "metadata": {},
   "outputs": [],
   "source": [
    "# ELIMINANDO AS COLUNAS COM PORCENTAGEM ACIMA DE 50% DE VALORES FALTANTES\n",
    "\n",
    "excluColsNull = ['TP_ENSINO', 'Q027'] \n",
    "\n",
    "df_train.drop(excluColsNull, axis = 1, inplace=True )\n",
    "\n",
    "# As demais não iremos eliminar por que existe uma correlação interessante \n",
    "# entre elas e a nossa var Alvo"
   ]
  },
  {
   "cell_type": "markdown",
   "metadata": {},
   "source": [
    "#### CORRELAÇÃO ENTRE AS VARIÁVEIS"
   ]
  },
  {
   "cell_type": "code",
   "execution_count": null,
   "metadata": {},
   "outputs": [],
   "source": [
    "# POR MEIO DAS CORRELAÇÕES POSITIVAS E MAIS ALTAS, SELECIONAMOS AS FEATURES MAIS RELEVANTES PARA\n",
    "# O NOSSO MODELO \n",
    "\n",
    "# 1º VAMOS VERIFICAR A CORRELAÇÃO DE TODAS AS VARIÁVEIS DO NOSSO CONJUNTO \n",
    "\n",
    "corrAlvo1 = sns.heatmap(df_train.corr(method = 'pearson'), annot=True, cmap = 'YlGnBu')\n",
    "\n",
    "corrAlvo = plt.gcf()\n",
    "corrAlvo.set_size_inches(22,16)\n",
    "plt.show()\n",
    "\n",
    "# PERCEBEMOS QUE ALGUMAS VARIÁVEIS APRESENTAM UM CORRELAÇÃO ALTA E POSISTIVA. VAMOS VÊ-LAS?"
   ]
  },
  {
   "cell_type": "code",
   "execution_count": null,
   "metadata": {},
   "outputs": [],
   "source": [
    "# CORRELAÇÃO ENTRE A NOTA DE MATEMÁTICA E OUTRAS NOTAS\n",
    "\n",
    "df_train[['NU_NOTA_MT','NU_NOTA_CN','NU_NOTA_CH','NU_NOTA_LC', \n",
    "          'NU_NOTA_COMP1', 'NU_NOTA_REDACAO', 'NU_NOTA_COMP2', \n",
    "          'NU_NOTA_COMP3', 'NU_NOTA_COMP4', 'NU_NOTA_COMP5']].corr()"
   ]
  },
  {
   "cell_type": "code",
   "execution_count": null,
   "metadata": {},
   "outputs": [],
   "source": [
    "# CORRELAÇÃO ENTRE A NOTA DE MATEMÁTICA E OUTRAS NOTAS - GRAFICAMENTE\n",
    "\n",
    "corrAlvo1 = sns.heatmap(df_train[['NU_NOTA_MT','NU_NOTA_CN','NU_NOTA_CH','NU_NOTA_LC', \n",
    "                                  'NU_NOTA_COMP1', 'NU_NOTA_REDACAO', 'NU_NOTA_COMP2', \n",
    "                                  'NU_NOTA_COMP3', 'NU_NOTA_COMP4', 'NU_NOTA_COMP5']]\n",
    "                                  .corr(method = 'pearson'), annot = True, cmap = 'YlGnBu')\n",
    "corrAlvo = plt.gcf()\n",
    "corrAlvo.set_size_inches(8,6)\n",
    "plt.show()"
   ]
  },
  {
   "cell_type": "code",
   "execution_count": null,
   "metadata": {},
   "outputs": [],
   "source": [
    "# CORRELAÇÃO ENTRE AS FALTAS NAS PROVAS \n",
    "\n",
    "df_train[['TP_PRESENCA_CN','TP_PRESENCA_CH','TP_PRESENCA_LC']].corr()"
   ]
  },
  {
   "cell_type": "code",
   "execution_count": null,
   "metadata": {},
   "outputs": [],
   "source": [
    "# CORRELAÇÃO ENTRE AS PRESENÇAS NAS PROVAS - GRAFICAMENTE\n",
    "\n",
    "corrAlvo2 = sns.heatmap(df_train[['TP_PRESENCA_CN','TP_PRESENCA_CH','TP_PRESENCA_LC']]\n",
    "               .corr(method='pearson'), annot=True, cmap='YlGnBu')\n",
    "corrAlvo=plt.gcf()\n",
    "corrAlvo.set_size_inches(8,6)\n",
    "plt.show()\n",
    "\n",
    "# Percebemos que existe uma correlação muito alta entre faltas nas provas de outras disciplinas \n",
    "# e faltas na prova de matemática. Assim, concluímos que alunos que faltam em outras provas tendem\n",
    "# a faltar também na prova de matemática."
   ]
  },
  {
   "cell_type": "code",
   "execution_count": null,
   "metadata": {},
   "outputs": [],
   "source": [
    "# EMBORA A NOTAS DE COMPETENCIA POSSUAM UMA CORRELAÇÃO BOA. A NOTA DE REDAÇÃO É A SOMA DAS \n",
    "# COMPETENCIAS 1,2,3,4 e 5, ASSIM, VAMOS EXCLUIR ESSAS INFORMAÇÕES E TRABALHAR APENAS COM A NOTA DA REDAÇÃO\n",
    "\n",
    "excluColsNull_1 = ['NU_NOTA_COMP1','NU_NOTA_COMP2', 'NU_NOTA_COMP3','NU_NOTA_COMP4', 'NU_NOTA_COMP5']\n",
    "\n",
    "df_train.drop(excluColsNull_1, axis=1, inplace=True)"
   ]
  },
  {
   "cell_type": "code",
   "execution_count": null,
   "metadata": {},
   "outputs": [],
   "source": [
    "# COMO ESTÁ NOSSO CONJ. DE DADOS AGORA?\n",
    "df_train.shape"
   ]
  },
  {
   "cell_type": "code",
   "execution_count": null,
   "metadata": {},
   "outputs": [],
   "source": [
    "# APÓS A LIMPEZA NOSSO CONJ DE DADOS PERMANECE COM AS SEGUINTES COLUNAS\n",
    "df_train.info();"
   ]
  },
  {
   "cell_type": "markdown",
   "metadata": {},
   "source": [
    "#### ANÁLISE DAS NOTAS DE MATEMÁTICA"
   ]
  },
  {
   "cell_type": "markdown",
   "metadata": {},
   "source": [
    "##### POR SEXO"
   ]
  },
  {
   "cell_type": "code",
   "execution_count": null,
   "metadata": {},
   "outputs": [],
   "source": [
    "# DISTRIBUIÇÃO DAS NOTAS DE MATEMÁTICA POR SEXO\n",
    "plt.figure(figsize=(12,4))\n",
    "plt.title('Distribuição notas de Matemática por Sexo')\n",
    "sns.distplot(df_train[df_train['TP_SEXO'] == 'M']['NU_NOTA_MT'], kde=True,bins=50, label='Masculino')\n",
    "sns.distplot(df_train[df_train['TP_SEXO'] == 'F']['NU_NOTA_MT'], kde=True,bins=50, label='Feminino')\n",
    "plt.legend()\n",
    "plt.show()"
   ]
  },
  {
   "cell_type": "code",
   "execution_count": null,
   "metadata": {},
   "outputs": [],
   "source": [
    "plt.figure(figsize=(14,4))\n",
    "ax = sns.catplot(x='TP_SEXO', y='NU_NOTA_MT', data = df_train, kind=\"box\")\n",
    "plt.show();"
   ]
  },
  {
   "cell_type": "code",
   "execution_count": null,
   "metadata": {},
   "outputs": [],
   "source": [
    "# MÉDIA DAS NOTAS DE MATEMÁTICA POR SEXO\n",
    "df_train.groupby('TP_SEXO')['NU_NOTA_MT'].mean()"
   ]
  },
  {
   "cell_type": "code",
   "execution_count": null,
   "metadata": {},
   "outputs": [],
   "source": [
    "# DESVIO PADRÃO DAS NOTAS DE MATEMÁTICA POR SEXO\n",
    "df_train.groupby('TP_SEXO')['NU_NOTA_MT'].std()"
   ]
  },
  {
   "cell_type": "code",
   "execution_count": null,
   "metadata": {},
   "outputs": [],
   "source": [
    "# MEDIANA DAS NOTAS DE MATEMÁTICA POR SEXO\n",
    "df_train.groupby('TP_SEXO')['NU_NOTA_MT'].median()"
   ]
  },
  {
   "cell_type": "markdown",
   "metadata": {},
   "source": [
    "##### POR RAÇA"
   ]
  },
  {
   "cell_type": "code",
   "execution_count": null,
   "metadata": {},
   "outputs": [],
   "source": [
    "# Distribuição das notas de matemática por Raça\n",
    "\n",
    "plt.figure(figsize=(14,6))\n",
    "plt.title('Distribuição notas de Matemática')\n",
    "sns.distplot(df_train[df_train['TP_COR_RACA']==0]['NU_NOTA_MT'], kde=True,bins=50, label='Não declarado')\n",
    "sns.distplot(df_train[df_train['TP_COR_RACA']==1]['NU_NOTA_MT'], kde=True,bins=50, label='Branca')\n",
    "sns.distplot(df_train[df_train['TP_COR_RACA']==2]['NU_NOTA_MT'], kde=True,bins=50, label='Preta')\n",
    "sns.distplot(df_train[df_train['TP_COR_RACA']==3]['NU_NOTA_MT'], kde=True,bins=50, label='Parda')\n",
    "sns.distplot(df_train[df_train['TP_COR_RACA']==4]['NU_NOTA_MT'], kde=True,bins=50, label='Amarela')\n",
    "sns.distplot(df_train[df_train['TP_COR_RACA']==5]['NU_NOTA_MT'], kde=True,bins=50, label='Indígena ')\n",
    "sns.distplot(df_train[df_train['TP_COR_RACA']==6]['NU_NOTA_MT'], kde=True,bins=50, label='Não dispõe da informação')\n",
    "plt.legend()\n",
    "plt.show();"
   ]
  },
  {
   "cell_type": "code",
   "execution_count": null,
   "metadata": {},
   "outputs": [],
   "source": [
    "ax1 = sns.catplot(x='TP_COR_RACA', y='NU_NOTA_MT', data=df_train, kind='box', aspect=2)\n",
    "# plt.legend(labels = ['Não declarado', 'Branca', 'Preta', 'Parda', 'Amarela', 'Indígena', \n",
    "#                      'Não dispõe da informação'], ncol=7, loc='upper left')\n",
    "plt.show()\n",
    "\n"
   ]
  },
  {
   "cell_type": "code",
   "execution_count": null,
   "metadata": {},
   "outputs": [],
   "source": [
    "# MÉDIA DAS NOTAS DE MATEMÁTICA POR RAÇA\n",
    "df_train.groupby('TP_COR_RACA')['NU_NOTA_MT'].mean()"
   ]
  },
  {
   "cell_type": "code",
   "execution_count": null,
   "metadata": {},
   "outputs": [],
   "source": [
    "# DESVIO PADRÃO DAS NOTAS DE MATEMÁTICA POR RAÇA\n",
    "df_train.groupby('TP_COR_RACA')['NU_NOTA_MT'].std()"
   ]
  },
  {
   "cell_type": "code",
   "execution_count": null,
   "metadata": {},
   "outputs": [],
   "source": [
    "# MEDIANA DAS NOTAS DE MATEMÁTICA POR RAÇA\n",
    "df_train.groupby('TP_COR_RACA')['NU_NOTA_MT'].median()"
   ]
  },
  {
   "cell_type": "markdown",
   "metadata": {},
   "source": [
    "#### ANALIZANDO AS NOTAS DE MATEMÁTICA DOS CANDIDATOS QUE FORAM DESCLASSIFICADOS OU FALTARAM EM OUTRAS PROVAS"
   ]
  },
  {
   "cell_type": "markdown",
   "metadata": {},
   "source": [
    "##### FALTAS E DESCLASSIFICAÇÃO EM CN"
   ]
  },
  {
   "cell_type": "code",
   "execution_count": null,
   "metadata": {},
   "outputs": [],
   "source": [
    "# NÚMERO DE CANDIDATOS QUE FALTARAM OU FORAM DESCLASSIFICADOS NA PROVA DE Ciências da Natureza\n",
    "\n",
    "Nota_CN_Missing = df_train[(df_train['NU_NOTA_CN'].isnull() == True)]['NU_NOTA_MT'].shape[0]\n",
    "Nota_CN_Missing"
   ]
  },
  {
   "cell_type": "code",
   "execution_count": null,
   "metadata": {},
   "outputs": [],
   "source": [
    "# DOS CANDIDATOS, QUANTOS FORAM DESCLASSIFICADOS OU FALTARAM NA PROVA DE MATEMÁTICA?\n",
    "df_train[(df_train['NU_NOTA_CH'].isnull() == True)&(df_train['NU_NOTA_MT'].isnull() == True)].shape[0]"
   ]
  },
  {
   "cell_type": "code",
   "execution_count": null,
   "metadata": {},
   "outputs": [],
   "source": [
    "# PORCENTAGEM DE CANDIDATOS QUE FORAM DESCLASSIFICADOS OU FALTARAM EM CN, MAS TIVERAM ALGUMA NOTA \n",
    "# EM MATEMÁTICAa \n",
    "\n",
    "(df_train[(df_train['NU_NOTA_CN'].isnull() == True)&(df_train['NU_NOTA_MT'].isnull() == False)].shape[0]/Nota_CN_Missing)*100\n",
    "\n",
    "# Observe que apenas 1% das pessoas que foram desclassificadas ou faltaram em Ciências da Natureza, \n",
    "# tiveram alguma nota em Matemática"
   ]
  },
  {
   "cell_type": "code",
   "execution_count": null,
   "metadata": {},
   "outputs": [],
   "source": [
    "# PORCENTAGEM DOS CANDIDATOS CLASSIFICADOS ANALIZANDO ESSE QUESITO\n",
    "(df_train[(df_train['NU_NOTA_CN'].isnull() == True)&(df_train['NU_NOTA_MT'].isnull() == True)].shape[0]/Nota_CN_Missing)*100"
   ]
  },
  {
   "cell_type": "code",
   "execution_count": null,
   "metadata": {},
   "outputs": [],
   "source": [
    "outlier_CN = list(df_train[(df_train['NU_NOTA_CN'].isnull() == True)&(df_train['NU_NOTA_MT'].isnull() == False)].index)"
   ]
  },
  {
   "cell_type": "code",
   "execution_count": null,
   "metadata": {},
   "outputs": [],
   "source": [
    "# QUANTOS SÃO OS OUTLIERS?\n",
    "len(outlier_CN)"
   ]
  },
  {
   "cell_type": "code",
   "execution_count": null,
   "metadata": {},
   "outputs": [],
   "source": [
    "# QUAIS SÃO ELES?\n",
    "df_train[(df_train['NU_NOTA_CN'].isnull() == True)&(df_train['NU_NOTA_MT'].isnull() == False)]['NU_NOTA_MT']"
   ]
  },
  {
   "cell_type": "code",
   "execution_count": null,
   "metadata": {},
   "outputs": [],
   "source": [
    "sns.boxplot(df_train[(df_train['NU_NOTA_CN'].isnull() == True)]['NU_NOTA_MT'])"
   ]
  },
  {
   "cell_type": "markdown",
   "metadata": {},
   "source": [
    "##### FALTAS E DESCLASSIFICAÇÃO EM CH"
   ]
  },
  {
   "cell_type": "code",
   "execution_count": null,
   "metadata": {},
   "outputs": [],
   "source": [
    "# Número de candidatos que faltaram ou foram desclassificadas na prova de Ciências Humanas\n",
    "\n",
    "Nota_CH_Missing = df_train[(df_train['NU_NOTA_CH'].isnull() == True)]['NU_NOTA_MT'].shape[0]\n",
    "Nota_CH_Missing"
   ]
  },
  {
   "cell_type": "code",
   "execution_count": null,
   "metadata": {},
   "outputs": [],
   "source": [
    "df_train[(df_train['NU_NOTA_CH'].isnull() == True)&(df_train['NU_NOTA_MT'].isnull() == True)].shape[0]"
   ]
  },
  {
   "cell_type": "code",
   "execution_count": null,
   "metadata": {},
   "outputs": [],
   "source": [
    "# Porcentagem de candidatos que foram desclassificados ou faltaram em CH, mas tiveram alguma \n",
    "#nota em Matemática\n",
    "(df_train[(df_train['NU_NOTA_CH'].isnull() == True)&(df_train['NU_NOTA_MT'].isnull() == False)].shape[0]/Nota_CH_Missing)*100"
   ]
  },
  {
   "cell_type": "code",
   "execution_count": null,
   "metadata": {},
   "outputs": [],
   "source": [
    "# Porcentagem de candidatos que estavam presentes em ambas as provas\n",
    "(df_train[(df_train['NU_NOTA_CH'].isnull() == True)&(df_train['NU_NOTA_MT'].isnull() == True)].shape[0]/Nota_CH_Missing)*100"
   ]
  },
  {
   "cell_type": "code",
   "execution_count": null,
   "metadata": {},
   "outputs": [],
   "source": [
    "outlier_CH = list(df_train[(df_train['NU_NOTA_CH'].isnull() == True)&(df_train['NU_NOTA_MT'].isnull() == False)].index)"
   ]
  },
  {
   "cell_type": "code",
   "execution_count": null,
   "metadata": {},
   "outputs": [],
   "source": [
    "len(outlier_CH)"
   ]
  },
  {
   "cell_type": "code",
   "execution_count": null,
   "metadata": {},
   "outputs": [],
   "source": [
    "sns.boxplot(df_train[(df_train['NU_NOTA_CH'].isnull() == True)]['NU_NOTA_MT'])"
   ]
  },
  {
   "cell_type": "markdown",
   "metadata": {},
   "source": [
    "##### FALTAS E DESCLASSIFICAÇÃO EM LC"
   ]
  },
  {
   "cell_type": "code",
   "execution_count": null,
   "metadata": {},
   "outputs": [],
   "source": [
    "# NÚMERO DE PESSOAS QUE FALTARAM OU FORAM DESCLASSIFICADAS NA PROVA DE LINGUAGENS E CÓDIGOS\n",
    "\n",
    "Nota_LC_Missing = df_train[(df_train['NU_NOTA_LC'].isnull() == True)]['NU_NOTA_MT'].shape[0]\n",
    "Nota_LC_Missing"
   ]
  },
  {
   "cell_type": "code",
   "execution_count": null,
   "metadata": {},
   "outputs": [],
   "source": [
    "# DOS CANDIDATOS, QUANTOS FORAM DESCLASSIFICADOS OU FALTARAM NA PROVA DE MATEMÁTICA?\n",
    "df_train[(df_train['NU_NOTA_LC'].isnull() == True)&(df_train['NU_NOTA_MT'].isnull() == True)].shape[0]"
   ]
  },
  {
   "cell_type": "code",
   "execution_count": null,
   "metadata": {},
   "outputs": [],
   "source": [
    "# PORCENTAGEM DE CANDIDATOS QUE FORAM DESCLASSIFICADOS OU FALTARAM EM LC, MAS TIVERAM ALGUMA \n",
    "# NOTA EM MATEMÁTICA\n",
    "\n",
    "(df_train[(df_train['NU_NOTA_LC'].isnull() == True)&(df_train['NU_NOTA_MT'].isnull() == True)].shape[0]/Nota_LC_Missing)*100"
   ]
  },
  {
   "cell_type": "markdown",
   "metadata": {},
   "source": [
    "#### ELIMINANDO NOTAS DE MATEMÁTICA IGUAL A ZERO"
   ]
  },
  {
   "cell_type": "code",
   "execution_count": null,
   "metadata": {},
   "outputs": [],
   "source": [
    "df_train[(df_train['NU_NOTA_MT']==0)].shape[0]"
   ]
  },
  {
   "cell_type": "code",
   "execution_count": null,
   "metadata": {},
   "outputs": [],
   "source": [
    "notaMT0 = df_train[df_train['NU_NOTA_MT']== 0]['NU_NOTA_MT']\n",
    "notaMT0"
   ]
  },
  {
   "cell_type": "code",
   "execution_count": null,
   "metadata": {},
   "outputs": [],
   "source": [
    "outlier_MT = list(df_train[(df_train['NU_NOTA_MT']==0)].index)\n",
    "outlier_MT"
   ]
  },
  {
   "cell_type": "markdown",
   "metadata": {},
   "source": [
    "#### ELIMINADO OUTLIERS "
   ]
  },
  {
   "cell_type": "code",
   "execution_count": null,
   "metadata": {},
   "outputs": [],
   "source": [
    "# EXCLUSÃO DE DADOS NOS QUAIS O CANDIDATO FALTOU EM CN, CH OU TEVE NOTA EM MATEMÁTICA IGUAL A ZERO\n",
    "\n",
    "outliers = list(set(outlier_CN + outlier_CH + outlier_MT))\n",
    "outliers"
   ]
  },
  {
   "cell_type": "code",
   "execution_count": null,
   "metadata": {},
   "outputs": [],
   "source": [
    "len(outliers)"
   ]
  },
  {
   "cell_type": "code",
   "execution_count": null,
   "metadata": {},
   "outputs": [],
   "source": [
    "df_train= df_train.drop(outliers)"
   ]
  },
  {
   "cell_type": "code",
   "execution_count": null,
   "metadata": {},
   "outputs": [],
   "source": [
    "df_train[(df_train['TP_PRESENCA_CN']==0) &(df_train['NU_NOTA_MT']>600)].shape[0]"
   ]
  },
  {
   "cell_type": "code",
   "execution_count": null,
   "metadata": {},
   "outputs": [],
   "source": [
    "df_train[(df_train['TP_PRESENCA_CH']==0) &(df_train['NU_NOTA_MT']>600)].shape[0]"
   ]
  },
  {
   "cell_type": "code",
   "execution_count": null,
   "metadata": {},
   "outputs": [],
   "source": [
    "outliersCN = list((df_train[(df_train['TP_PRESENCA_CN']==0) &(df_train['NU_NOTA_MT']>600)]).index)\n",
    "outliersCN"
   ]
  },
  {
   "cell_type": "code",
   "execution_count": null,
   "metadata": {},
   "outputs": [],
   "source": [
    "outliersCH = list((df_train[(df_train['TP_PRESENCA_CH']==0) &(df_train['NU_NOTA_MT']>600)]).index)\n",
    "outliersCH"
   ]
  },
  {
   "cell_type": "code",
   "execution_count": null,
   "metadata": {},
   "outputs": [],
   "source": [
    "outliersTP = list(set(outliersCN + outliersCH))"
   ]
  },
  {
   "cell_type": "code",
   "execution_count": null,
   "metadata": {},
   "outputs": [],
   "source": [
    "df_train= df_train.drop(outliersTP)"
   ]
  },
  {
   "cell_type": "markdown",
   "metadata": {},
   "source": [
    "#### VERIFICACO A DISTRIBUIÇÃO DAS NOTAS LEVANDO EM CONSIDERAÇÃO OS VALORES FALTANTES"
   ]
  },
  {
   "cell_type": "code",
   "execution_count": null,
   "metadata": {},
   "outputs": [],
   "source": [
    "sns.distplot(df_train['NU_NOTA_LC'].fillna(0), label='NU_NOTA_LC')\n",
    "sns.distplot(df_test['NU_NOTA_CH'].fillna(0), label='NU_NOTA_CH')\n",
    "sns.distplot(df_test['NU_NOTA_LC'].fillna(0), label='NU_NOTA_LC')\n",
    "sns.distplot(df_test['NU_NOTA_REDACAO'].fillna(0), label='NU_NOTA_REDACAO')\n",
    "plt.legend()\n",
    "plt.show()"
   ]
  },
  {
   "cell_type": "code",
   "execution_count": null,
   "metadata": {},
   "outputs": [],
   "source": [
    "# INFERIR ZERO AOS DADOS FALTANTES. PARTINDO DA IDÉIA QUE FALTA IMPLICA EM NOTA ZERO\n",
    "\n",
    "df_train = df_train.fillna(value={'NU_NOTA_CN':0,'NU_NOTA_CH':0,'NU_NOTA_LC':0,\n",
    "                                  'NU_NOTA_REDACAO':0, 'TP_STATUS_REDACAO':0, 'NU_NOTA_MT':0})"
   ]
  },
  {
   "cell_type": "code",
   "execution_count": null,
   "metadata": {},
   "outputs": [],
   "source": [
    "# PORCENTAGEM DE VALORES FALTANTES POR FEATURE\n",
    "\n",
    "(df_train.isnull().sum() / df_train.shape[0]) * 100 "
   ]
  },
  {
   "cell_type": "code",
   "execution_count": null,
   "metadata": {},
   "outputs": [],
   "source": [
    "df_train.columns.values"
   ]
  },
  {
   "cell_type": "code",
   "execution_count": null,
   "metadata": {},
   "outputs": [],
   "source": [
    "df_train.shape"
   ]
  },
  {
   "cell_type": "code",
   "execution_count": null,
   "metadata": {},
   "outputs": [],
   "source": [
    "# TRANSFOAMNDO DADOS DE TEXTUAIS EM NÚMERICOS\n",
    "\n",
    "from sklearn.preprocessing import LabelEncoder\n",
    "\n",
    "var_cat1 = ['SG_UF_RESIDENCIA', 'TP_SEXO', 'TP_COR_RACA',\n",
    "       'TP_NACIONALIDADE', 'TP_ST_CONCLUSAO','TP_ESCOLA',\n",
    "       'IN_TREINEIRO', 'IN_BAIXA_VISAO', 'IN_SURDEZ','TP_PRESENCA_CN', 'TP_PRESENCA_CH', 'TP_PRESENCA_LC',\n",
    "       'TP_LINGUA', 'TP_STATUS_REDACAO','Q001','Q002', 'Q006', 'Q024', 'Q025', 'Q026', 'Q047']\n",
    "\n",
    "le = LabelEncoder()\n",
    "\n",
    "for i in var_cat1: \n",
    "    df_train[i] = le.fit_transform(df_train[i].astype(str))\n",
    "    df_train.dtypes"
   ]
  },
  {
   "cell_type": "code",
   "execution_count": null,
   "metadata": {},
   "outputs": [],
   "source": [
    "df_train.head()"
   ]
  },
  {
   "cell_type": "code",
   "execution_count": null,
   "metadata": {},
   "outputs": [],
   "source": [
    "df_train.shape"
   ]
  },
  {
   "cell_type": "code",
   "execution_count": null,
   "metadata": {},
   "outputs": [],
   "source": [
    "# DUMMIES DE VARIÁVEIS CATEGÓRICAS\n",
    "\n",
    "var_cat2 = ['SG_UF_RESIDENCIA', 'TP_SEXO', 'TP_COR_RACA',\n",
    "       'TP_NACIONALIDADE', 'TP_ST_CONCLUSAO','TP_ESCOLA',\n",
    "       'IN_TREINEIRO', 'IN_BAIXA_VISAO', 'IN_SURDEZ','TP_PRESENCA_CN', 'TP_PRESENCA_CH', 'TP_PRESENCA_LC',\n",
    "       'TP_LINGUA', 'TP_STATUS_REDACAO','Q025', 'Q026', 'Q047']\n",
    "\n",
    "df_train = pd.get_dummies(df_train, columns = var_cat2).copy()"
   ]
  },
  {
   "cell_type": "code",
   "execution_count": null,
   "metadata": {},
   "outputs": [],
   "source": [
    "df_train.shape"
   ]
  },
  {
   "cell_type": "code",
   "execution_count": null,
   "metadata": {},
   "outputs": [],
   "source": [
    "df_train.head()"
   ]
  },
  {
   "cell_type": "markdown",
   "metadata": {},
   "source": [
    "#### CONJ. DE DADOS DE TESTE"
   ]
  },
  {
   "cell_type": "code",
   "execution_count": null,
   "metadata": {},
   "outputs": [],
   "source": [
    "df_test.shape"
   ]
  },
  {
   "cell_type": "code",
   "execution_count": null,
   "metadata": {},
   "outputs": [],
   "source": [
    "df_test.head()"
   ]
  },
  {
   "cell_type": "code",
   "execution_count": null,
   "metadata": {},
   "outputs": [],
   "source": [
    "df_test.columns"
   ]
  },
  {
   "cell_type": "code",
   "execution_count": null,
   "metadata": {},
   "outputs": [],
   "source": [
    "# EXCLUINDO COLUNAS IRRELEVANTES\n",
    "\n",
    "colsExclud_test = ['CO_UF_RESIDENCIA', 'TP_DEPENDENCIA_ADM_ESC', \n",
    "                   'IN_CEGUEIRA', 'IN_DISLEXIA', 'IN_SABATISTA', 'IN_GESTANTE', \n",
    "                   'IN_IDOSO', 'CO_PROVA_CN', 'CO_PROVA_CH', \n",
    "                   'CO_PROVA_LC', 'CO_PROVA_MT', 'IN_DISCALCULIA']\n",
    "\n",
    "# Removendo as colunas analisadas do conj. de teste\n",
    "df_test.drop(colsExclud_test, axis=1, inplace=True)"
   ]
  },
  {
   "cell_type": "code",
   "execution_count": null,
   "metadata": {},
   "outputs": [],
   "source": [
    "df_test.shape"
   ]
  },
  {
   "cell_type": "code",
   "execution_count": null,
   "metadata": {},
   "outputs": [],
   "source": [
    "df_test.shape"
   ]
  },
  {
   "cell_type": "code",
   "execution_count": null,
   "metadata": {},
   "outputs": [],
   "source": [
    "# EMBORA A NOTAS DE COMPETENCIA POSSUAM UMA CORRELAÇÃO BOA. A NOTA DE REDAÇÃO É A SOMA DAS \n",
    "# COMPETENCIAS 1,2,3,4 e 5, ASSIM, VAMOS EXCLUIR ESSAS INFORMAÇÕES E TRABALHAR APENAS COM A NOTA DA REDAÇÃO\n",
    "\n",
    "excluColsNull_t1 = ['NU_NOTA_COMP1','NU_NOTA_COMP2', 'NU_NOTA_COMP3','NU_NOTA_COMP4', 'NU_NOTA_COMP5']\n",
    "\n",
    "df_test.drop(excluColsNull_t1, axis=1, inplace=True)"
   ]
  },
  {
   "cell_type": "code",
   "execution_count": null,
   "metadata": {},
   "outputs": [],
   "source": [
    "df_test.shape"
   ]
  },
  {
   "cell_type": "code",
   "execution_count": null,
   "metadata": {},
   "outputs": [],
   "source": [
    "# CALCULANDO A PORCENTAGEM DE VALORES MISSING NO RESTANTE DO CONJ. DE DADOS\n",
    "\n",
    "(df_test.isnull().sum() / df_test.shape[0]) * 100"
   ]
  },
  {
   "cell_type": "code",
   "execution_count": null,
   "metadata": {},
   "outputs": [],
   "source": [
    "# ELIMINANDO AS COLUNAS COM PORCENTAGEM ACIMA DE 50% DE VALORES FALTANTES\n",
    "\n",
    "excluColsNull_t = ['TP_ENSINO', 'Q027'] \n",
    "\n",
    "df_test.drop(excluColsNull_t, axis=1, inplace=True)"
   ]
  },
  {
   "cell_type": "code",
   "execution_count": null,
   "metadata": {},
   "outputs": [],
   "source": [
    "df_test.shape"
   ]
  },
  {
   "cell_type": "code",
   "execution_count": null,
   "metadata": {},
   "outputs": [],
   "source": [
    "df_test = df_test.fillna(value={'NU_NOTA_CN':0,'NU_NOTA_CH':0,'NU_NOTA_LC':0,\n",
    "                                'NU_NOTA_REDACAO':0, 'TP_STATUS_REDACAO':0})"
   ]
  },
  {
   "cell_type": "code",
   "execution_count": null,
   "metadata": {},
   "outputs": [],
   "source": [
    "# Calculando a porcentagem de valores MIssing no restante do Conj. de dados\n",
    "(df_test.isnull().sum() / df_test.shape[0]) * 100 "
   ]
  },
  {
   "cell_type": "code",
   "execution_count": null,
   "metadata": {},
   "outputs": [],
   "source": [
    "# TRANSFORMANDO DADOS DE TEXTUAIS EM NUMÉRICOS\n",
    "\n",
    "from sklearn.preprocessing import LabelEncoder\n",
    "\n",
    "le = LabelEncoder()\n",
    "\n",
    "for i in var_cat1: \n",
    "    df_test[i] = le.fit_transform(df_test[i].astype(str))\n",
    "    df_test.dtypes"
   ]
  },
  {
   "cell_type": "code",
   "execution_count": null,
   "metadata": {},
   "outputs": [],
   "source": [
    "df_test.head()"
   ]
  },
  {
   "cell_type": "code",
   "execution_count": null,
   "metadata": {},
   "outputs": [],
   "source": [
    "cat_features_t = ['SG_UF_RESIDENCIA', 'TP_SEXO', 'TP_COR_RACA',\n",
    "                  'TP_NACIONALIDADE', 'TP_ST_CONCLUSAO','TP_ESCOLA',\n",
    "                  'IN_TREINEIRO', 'IN_BAIXA_VISAO', 'IN_SURDEZ','TP_PRESENCA_CN', \n",
    "                  'TP_PRESENCA_CH', 'TP_PRESENCA_LC', 'TP_LINGUA', \n",
    "                  'TP_STATUS_REDACAO','Q025', 'Q026', 'Q047']"
   ]
  },
  {
   "cell_type": "code",
   "execution_count": null,
   "metadata": {},
   "outputs": [],
   "source": [
    "df_test1 = pd.get_dummies(df_test, columns = cat_features_t).copy()"
   ]
  },
  {
   "cell_type": "code",
   "execution_count": null,
   "metadata": {},
   "outputs": [],
   "source": [
    "df_test1.head()"
   ]
  },
  {
   "cell_type": "code",
   "execution_count": null,
   "metadata": {},
   "outputs": [],
   "source": [
    "colunas_df_t1 = list(df_test1.columns)\n",
    "colunas_df2 = list(df_train.columns)\n",
    "\n",
    "for i in colunas_df2:\n",
    "    if i not in colunas_df_t1:\n",
    "        print(i)"
   ]
  },
  {
   "cell_type": "code",
   "execution_count": null,
   "metadata": {},
   "outputs": [],
   "source": [
    "df_train=df_train.drop(columns=['TP_PRESENCA_CN_2','TP_PRESENCA_CH_2', 'TP_ESCOLA_3'])"
   ]
  },
  {
   "cell_type": "code",
   "execution_count": null,
   "metadata": {},
   "outputs": [],
   "source": [
    "colsExclud_3 =[ 'SG_UF_RESIDENCIA_0', 'TP_SEXO_0','TP_COR_RACA_0','TP_NACIONALIDADE_0','TP_ST_CONCLUSAO_3',\n",
    "         'IN_TREINEIRO_0','IN_BAIXA_VISAO_0','IN_SURDEZ_0','TP_PRESENCA_CN_0',\n",
    "         'TP_PRESENCA_CH_0','TP_PRESENCA_LC_0','TP_LINGUA_1','TP_STATUS_REDACAO_0','Q025_0', 'Q026_0']\n",
    "\n",
    "df_train_2 = df_train.drop(columns=colsExclud_3)\n",
    "df_test1 = df_test1.drop(columns=colsExclud_3)"
   ]
  },
  {
   "cell_type": "code",
   "execution_count": null,
   "metadata": {},
   "outputs": [],
   "source": [
    "df_train_2.columns.values"
   ]
  },
  {
   "cell_type": "markdown",
   "metadata": {},
   "source": [
    "#### MODELOS PREDITIVOS"
   ]
  },
  {
   "cell_type": "code",
   "execution_count": null,
   "metadata": {},
   "outputs": [],
   "source": [
    "# DIVIDINDO O NOSSO CONJUNTO EM TREINO E TESTE\n",
    "\n",
    "X = df_train_2.drop(columns =['NU_NOTA_MT'], axis=1)\n",
    "y = df_train_2['NU_NOTA_MT']"
   ]
  },
  {
   "cell_type": "code",
   "execution_count": null,
   "metadata": {},
   "outputs": [],
   "source": [
    "X.head()"
   ]
  },
  {
   "cell_type": "code",
   "execution_count": null,
   "metadata": {},
   "outputs": [],
   "source": [
    "y.head()"
   ]
  },
  {
   "cell_type": "code",
   "execution_count": null,
   "metadata": {},
   "outputs": [],
   "source": [
    "from sklearn.model_selection import train_test_split\n",
    "\n",
    "X_train, X_test, y_train, y_test = train_test_split(X, y, test_size = 0.3, random_state = 42)\n",
    "\n",
    "# NORMALIZANDO OS DADOS\n",
    "# from sklearn.preprocessing import StandardScaler\n",
    "# sc = StandardScaler()  \n",
    "# X_train = sc.fit_transform(X_train)  \n",
    "# X_test = sc.transform(X_test)"
   ]
  },
  {
   "cell_type": "markdown",
   "metadata": {},
   "source": [
    "#### MODELO RandomForestRegressor"
   ]
  },
  {
   "cell_type": "code",
   "execution_count": null,
   "metadata": {},
   "outputs": [],
   "source": [
    "from sklearn.ensemble import RandomForestRegressor\n",
    "model_lr = RandomForestRegressor( \n",
    "           criterion='mae', \n",
    "           max_depth=8,\n",
    "           max_leaf_nodes=None,\n",
    "           min_impurity_split=None,\n",
    "           min_samples_leaf=1,\n",
    "           min_samples_split=2,\n",
    "           min_weight_fraction_leaf=0.0,\n",
    "           n_estimators= 500,\n",
    "           n_jobs=-1,\n",
    "           random_state=0,\n",
    "           verbose=0,\n",
    "           warm_start=False\n",
    ")\n",
    "\n",
    "model_lr.fit(X_train, y_train)\n",
    "#y_pred_lr = model_lr.predict(X_test)"
   ]
  },
  {
   "cell_type": "code",
   "execution_count": null,
   "metadata": {},
   "outputs": [],
   "source": [
    "y_pred_test = model_lr.predict(X_test)\n",
    "y_pred_train = model_lr.predict(X_train)"
   ]
  },
  {
   "cell_type": "code",
   "execution_count": null,
   "metadata": {},
   "outputs": [],
   "source": [
    "from sklearn.metrics import mean_squared_error, r2_score\n",
    "\n",
    "mean_squared_error(y_test, y_pred_test)"
   ]
  },
  {
   "cell_type": "markdown",
   "metadata": {},
   "source": [
    "#### MÉTRICAS DE AVALIAÇÃO DO MODELO"
   ]
  },
  {
   "cell_type": "code",
   "execution_count": null,
   "metadata": {},
   "outputs": [],
   "source": [
    "print('MAE:', metrics.mean_absolute_error(y_train, y_pred_train).round(8)  )\n",
    "print('MSE:', metrics.mean_squared_error(y_train, y_pred_train).round(8) )  \n",
    "print('RMSE:', np.sqrt(metrics.mean_squared_error(y_train, y_pred_train)).round(8))"
   ]
  },
  {
   "cell_type": "code",
   "execution_count": null,
   "metadata": {},
   "outputs": [],
   "source": [
    "X_testN = df_test1.drop(columns =['NU_INSCRICAO'], axis=1)\n",
    "\n",
    "ypredict_test = model_lr.predict(X_testN)"
   ]
  },
  {
   "cell_type": "code",
   "execution_count": null,
   "metadata": {},
   "outputs": [],
   "source": [
    "df_test1['NU_NOTA_MT'] = ypredict_test"
   ]
  },
  {
   "cell_type": "code",
   "execution_count": null,
   "metadata": {},
   "outputs": [],
   "source": [
    "answer = df_test1[['NU_INSCRICAO','NU_NOTA_MT']]"
   ]
  },
  {
   "cell_type": "code",
   "execution_count": null,
   "metadata": {},
   "outputs": [],
   "source": [
    "# SALVANDO NOSSA RESPOSTA\n",
    "answer.to_csv(\"answer.csv\",index=False)"
   ]
  }
 ],
 "metadata": {
  "kernelspec": {
   "display_name": "Python 3",
   "language": "python",
   "name": "python3"
  },
  "language_info": {
   "codemirror_mode": {
    "name": "ipython",
    "version": 3
   },
   "file_extension": ".py",
   "mimetype": "text/x-python",
   "name": "python",
   "nbconvert_exporter": "python",
   "pygments_lexer": "ipython3",
   "version": "3.7.1"
  }
 },
 "nbformat": 4,
 "nbformat_minor": 4
}
